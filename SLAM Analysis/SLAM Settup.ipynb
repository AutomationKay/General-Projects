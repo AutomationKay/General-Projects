{
 "cells": [
  {
   "cell_type": "markdown",
   "id": "6ee85f85-e398-40ab-aacd-d67428e02ec4",
   "metadata": {},
   "source": [
    "# Project Draft: Deep Learning-Enhanced SLAM for Office Robotics\n",
    "## 1. Abstract\n",
    "### This project aims to develop a deep learning-enhanced Simultaneous Localization and Mapping (SLAM) system on a Raspberry Pi-powered robot. The robot, equipped with a camera module, will autonomously navigate an office environment and generate an interactive 3D map. A custom lightweight Convolutional Neural Network (CNN) will be developed for real-time feature extraction to enhance traditional SLAM algorithms. The final deliverable will include an interactive 3D visualization of the mapped environment, showcasing the system's performance and potential applications."
   ]
  },
  {
   "cell_type": "code",
   "execution_count": null,
   "id": "d1979a78-efec-41cb-b8f7-ac08ee102206",
   "metadata": {},
   "outputs": [],
   "source": [
    "import cv2\n",
    "import os\n",
    "import tensorflow as tf\n",
    "from tensorflow import keras\n",
    "from tensorflow.keras import layers\n",
    "from tensorflow.keras.preprocessing.image import ImageDataGenerator"
   ]
  },
  {
   "cell_type": "code",
   "execution_count": null,
   "id": "492e144e-6691-4634-b536-8a51e0e418f2",
   "metadata": {},
   "outputs": [],
   "source": [
    "# Definition of a light weight model that can be deployed on a Raspberry Pi\n",
    "def create_cnn_model(input_shape=(64, 64, 3)):\n",
    "    model = keras.Sequential([\n",
    "        # Convolutional layer 1\n",
    "        layers.Conv2D(16, (3, 3), activation='relu', input_shape=input_shape),\n",
    "        layers.MaxPooling2D(pool_size=(2, 2)),\n",
    "\n",
    "        # Convolutional layer 2\n",
    "        layers.Conv2D(32, (3, 3), activation='relu'),\n",
    "        layers.MaxPooling2D(pool_size=(2, 2)),\n",
    "\n",
    "        # Flatten and fully connected layers\n",
    "        layers.Flatten(),\n",
    "        layers.Dense(64, activation='relu'),\n",
    "        layers.Dense(32, activation='relu'),\n",
    "\n",
    "        # Output: Feature vector\n",
    "        layers.Dense(10, activation='linear')  # 10 feature descriptors\n",
    "    ])\n",
    "    \n",
    "    model.compile(optimizer='adam', loss='mse', metrics=['mae'])\n",
    "    return model\n",
    "\n",
    "# Creating the model\n",
    "cnn_model = create_cnn_model()\n",
    "cnn_model.summary()"
   ]
  },
  {
   "cell_type": "markdown",
   "id": "fb8c7d13-9b60-4de0-b29e-060fa10244e0",
   "metadata": {},
   "source": [
    "The project will require pulling images from the Raspberry Pi Camera. The following code is structured to assist in grabbing images and preparing for training the model."
   ]
  },
  {
   "cell_type": "code",
   "execution_count": null,
   "id": "ef44594e-6fd3-42e6-9390-60b2e932222c",
   "metadata": {},
   "outputs": [],
   "source": [
    "# Create dataset directory\n",
    "dataset_path = \"dataset\"\n",
    "os.makedirs(dataset_path, exist_ok=True)\n",
    "\n",
    "cap = cv2.VideoCapture(0)  # Access the Pi Camera\n",
    "\n",
    "count = 0\n",
    "while count < 100:  # Collect 100 images\n",
    "    ret, frame = cap.read()\n",
    "    if not ret:\n",
    "        break\n",
    "    \n",
    "    img_path = os.path.join(dataset_path, f\"image_{count}.jpg\")\n",
    "    cv2.imwrite(img_path, frame)\n",
    "    count += 1\n",
    "    print(f\"Saved {img_path}\")\n",
    "\n",
    "cap.release()\n",
    "cv2.destroyAllWindows()"
   ]
  },
  {
   "cell_type": "markdown",
   "id": "813af5da-abad-4d09-b454-2ca624ff315c",
   "metadata": {},
   "source": [
    "Next, the CNN is given access to these images for training."
   ]
  },
  {
   "cell_type": "code",
   "execution_count": null,
   "id": "5309443f-b5ff-474e-bea0-4f294be490f9",
   "metadata": {},
   "outputs": [],
   "source": [
    "# Data preprocessing\n",
    "datagen = ImageDataGenerator(rescale=1./255, validation_split=0.2)\n",
    "\n",
    "train_data = datagen.flow_from_directory(\n",
    "    dataset_path,\n",
    "    target_size=(64, 64),\n",
    "    batch_size=16,\n",
    "    class_mode=None,  # Unsupervised\n",
    "    subset='training'\n",
    ")\n",
    "\n",
    "val_data = datagen.flow_from_directory(\n",
    "    dataset_path,\n",
    "    target_size=(64, 64),\n",
    "    batch_size=16,\n",
    "    class_mode=None,\n",
    "    subset='validation'\n",
    ")\n",
    "\n",
    "# Train the model\n",
    "cnn_model.fit(train_data, epochs=10, validation_data=val_data)"
   ]
  }
 ],
 "metadata": {
  "kernelspec": {
   "display_name": "Python 3 (ipykernel)",
   "language": "python",
   "name": "python3"
  },
  "language_info": {
   "codemirror_mode": {
    "name": "ipython",
    "version": 3
   },
   "file_extension": ".py",
   "mimetype": "text/x-python",
   "name": "python",
   "nbconvert_exporter": "python",
   "pygments_lexer": "ipython3",
   "version": "3.11.0rc1"
  }
 },
 "nbformat": 4,
 "nbformat_minor": 5
}
