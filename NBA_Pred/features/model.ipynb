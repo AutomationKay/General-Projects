{
 "cells": [
  {
   "cell_type": "markdown",
   "metadata": {},
   "source": [
    "# NBA Awards Prediction Models\n",
    "\n",
    "In this notebook, we will load and preprocess NBA data, and train several models to predict different awards and statistical leaders using `RandomForestRegressor` and `RandomForestClassifier` from `scikit-learn`. The models will be saved using `joblib`.\n"
   ]
  },
  {
   "cell_type": "code",
   "execution_count": null,
   "metadata": {},
   "outputs": [],
   "source": [
    "# Import necessary libraries\n",
    "import pandas as pd  # For data manipulation and analysis\n",
    "from sklearn.model_selection import train_test_split  # For splitting the data into training and testing sets\n",
    "from sklearn.ensemble import RandomForestRegressor, RandomForestClassifier, GradientBoostingRegressor, GradientBoostingClassifier  # For creating and training models\n",
    "from sklearn.svm import SVR, SVC  # For Support Vector Machine models\n",
    "from sklearn.metrics import mean_squared_error, accuracy_score, confusion_matrix, classification_report  # For evaluating model performance\n",
    "import joblib  # For saving the trained models\n",
    "import logging  # For logging information, warnings, and errors\n",
    "\n",
    "# Configure logging\n",
    "logging.basicConfig(level=logging.INFO)\n"
   ]
  },
  {
   "cell_type": "markdown",
   "metadata": {},
   "source": [
    "## Load and Preprocess Data\n",
    "\n",
    "First, we will load the cleaned NBA data from a CSV file and define our feature and target variables.\n"
   ]
  },
  {
   "cell_type": "code",
   "execution_count": null,
   "metadata": {},
   "outputs": [],
   "source": [
    "# Load data\n",
    "data = pd.read_csv('cleaned_nba_stats.csv')\n",
    "\n",
    "# Define features and target variables\n",
    "features = ['PTS', 'AST', 'REB', 'BLK', 'STL', 'PER']\n",
    "X = data[features]\n"
   ]
  },
  {
   "cell_type": "markdown",
   "metadata": {},
   "source": [
    "## Train and Evaluate Models\n",
    "\n",
    "We will train and evaluate three models (Random Forest, Gradient Boosting, and Support Vector Machine) for each of the following tasks:\n",
    "1. MVP prediction\n",
    "2. Defensive Player of the Year (DPOY) prediction\n",
    "3. Points leader prediction\n",
    "4. Assists leader prediction\n",
    "5. Rebounds leader prediction\n",
    "\n",
    "We will use appropriate evaluation metrics for each task.\n"
   ]
  },
  {
   "cell_type": "code",
   "execution_count": null,
   "metadata": {},
   "outputs": [],
   "source": [
    "# Define the target variable for MVP\n",
    "y_mvp = data['MVP_votes']  # Assume 'MVP_votes' is the target column for MVP\n",
    "\n",
    "# Split the data into training and testing sets\n",
    "X_train_mvp, X_test_mvp, y_train_mvp, y_test_mvp = train_test_split(X, y_mvp, test_size=0.2, random_state=42)\n",
    "\n"
   ]
  },
  {
   "cell_type": "markdown",
   "metadata": {},
   "source": [
    "#### Random Forest Regressor\n"
   ]
  },
  {
   "cell_type": "code",
   "execution_count": null,
   "metadata": {},
   "outputs": [],
   "source": [
    "# Train the model\n",
    "rf_mvp = RandomForestRegressor(n_estimators=100, random_state=42)\n",
    "rf_mvp.fit(X_train_mvp, y_train_mvp)\n",
    "\n",
    "# Make predictions\n",
    "y_pred_rf_mvp = rf_mvp.predict(X_test_mvp)\n",
    "\n",
    "# Evaluate the model\n",
    "mse_rf_mvp = mean_squared_error(y_test_mvp, y_pred_rf_mvp)\n",
    "logging.info(f'Random Forest MVP MSE: {mse_rf_mvp}')\n",
    "\n",
    "# Save the trained model\n",
    "#joblib.dump(rf_mvp, 'rf_mvp_model.pkl')\n"
   ]
  },
  {
   "cell_type": "markdown",
   "metadata": {},
   "source": [
    "#### Gradient Boosting Regressor\n"
   ]
  },
  {
   "cell_type": "code",
   "execution_count": null,
   "metadata": {},
   "outputs": [],
   "source": [
    "# Train the model\n",
    "gb_mvp = GradientBoostingRegressor(n_estimators=100, random_state=42)\n",
    "gb_mvp.fit(X_train_mvp, y_train_mvp)\n",
    "\n",
    "# Make predictions\n",
    "y_pred_gb_mvp = gb_mvp.predict(X_test_mvp)\n",
    "\n",
    "# Evaluate the model\n",
    "mse_gb_mvp = mean_squared_error(y_test_mvp, y_pred_gb_mvp)\n",
    "logging.info(f'Gradient Boosting MVP MSE: {mse_gb_mvp}')\n",
    "\n",
    "# Save the trained model\n",
    "#joblib.dump(gb_mvp, 'gb_mvp_model.pkl')\n"
   ]
  },
  {
   "cell_type": "markdown",
   "metadata": {},
   "source": [
    "#### Support Vector Regressor\n"
   ]
  },
  {
   "cell_type": "code",
   "execution_count": null,
   "metadata": {},
   "outputs": [],
   "source": [
    "# Train the model\n",
    "svr_mvp = SVR()\n",
    "svr_mvp.fit(X_train_mvp, y_train_mvp)\n",
    "\n",
    "# Make predictions\n",
    "y_pred_svr_mvp = svr_mvp.predict(X_test_mvp)\n",
    "\n",
    "# Evaluate the model\n",
    "mse_svr_mvp = mean_squared_error(y_test_mvp, y_pred_svr_mvp)\n",
    "logging.info(f'Support Vector MVP MSE: {mse_svr_mvp}')\n",
    "\n",
    "# Save the trained model\n",
    "#joblib.dump(svr_mvp, 'svr_mvp_model.pkl')\n"
   ]
  },
  {
   "cell_type": "markdown",
   "metadata": {},
   "source": [
    "## Train Defensive Player of the Year (DPOY) Model\n",
    "\n",
    "Next, we will train a model to predict the Defensive Player of the Year (DPOY) votes using `RandomForestClassifier`.\n"
   ]
  },
  {
   "cell_type": "code",
   "execution_count": null,
   "metadata": {},
   "outputs": [],
   "source": [
    "# Define the target variable for DPOY\n",
    "y_dpoty = data['DPOTY_votes']  # Assume 'DPOTY_votes' is the target column for Defensive Player of the Year\n",
    "\n",
    "# Split the data into training and testing sets\n",
    "X_train_dpoty, X_test_dpoty, y_train_dpoty, y_test_dpoty = train_test_split(X, y_dpoty, test_size=0.2, random_state=42)\n",
    "\n"
   ]
  },
  {
   "cell_type": "markdown",
   "metadata": {},
   "source": [
    "#### Random Forest Classifier\n"
   ]
  },
  {
   "cell_type": "code",
   "execution_count": null,
   "metadata": {},
   "outputs": [],
   "source": [
    "# Train the model\n",
    "rf_dpoty = RandomForestClassifier(n_estimators=100, random_state=42)\n",
    "rf_dpoty.fit(X_train_dpoty, y_train_dpoty)\n",
    "\n",
    "# Make predictions\n",
    "y_pred_rf_dpoty = rf_dpoty.predict(X_test_dpoty)\n",
    "\n",
    "# Evaluate the model\n",
    "accuracy_rf_dpoty = accuracy_score(y_test_dpoty, y_pred_rf_dpoty)\n",
    "conf_matrix_rf_dpoty = confusion_matrix(y_test_dpoty, y_pred_rf_dpoty)\n",
    "logging.info(f'Random Forest DPOY Accuracy: {accuracy_rf_dpoty}')\n",
    "logging.info(f'Random Forest DPOY Confusion Matrix: \\n{conf_matrix_rf_dpoty}')\n",
    "\n",
    "# Save the trained model\n",
    "joblib.dump(rf_dpoty, 'rf_dpoty_model.pkl')\n"
   ]
  },
  {
   "cell_type": "markdown",
   "metadata": {},
   "source": [
    "#### Gradient Boosting Classifier\n"
   ]
  },
  {
   "cell_type": "code",
   "execution_count": null,
   "metadata": {},
   "outputs": [],
   "source": [
    "# Train the model\n",
    "gb_dpoty = GradientBoostingClassifier(n_estimators=100, random_state=42)\n",
    "gb_dpoty.fit(X_train_dpoty, y_train_dpoty)\n",
    "\n",
    "# Make predictions\n",
    "y_pred_gb_dpoty = gb_dpoty.predict(X_test_dpoty)\n",
    "\n",
    "# Evaluate the model\n",
    "accuracy_gb_dpoty = accuracy_score(y_test_dpoty, y_pred_gb_dpoty)\n",
    "conf_matrix_gb_dpoty = confusion_matrix(y_test_dpoty, y_pred_gb_dpoty)\n",
    "logging.info(f'Gradient Boosting DPOY Accuracy: {accuracy_gb_dpoty}')\n",
    "logging.info(f'Gradient Boosting DPOY Confusion Matrix: \\n{conf_matrix_gb_dpoty}')\n",
    "\n",
    "# Save the trained model\n",
    "joblib.dump(gb_dpoty, 'gb_dpoty_model.pkl')\n"
   ]
  },
  {
   "cell_type": "markdown",
   "metadata": {},
   "source": [
    "#### Support Vector Classifier\n"
   ]
  },
  {
   "cell_type": "code",
   "execution_count": null,
   "metadata": {},
   "outputs": [],
   "source": [
    "# Train the model\n",
    "svc_dpoty = SVC()\n",
    "svc_dpoty.fit(X_train_dpoty, y_train_dpoty)\n",
    "\n",
    "# Make predictions\n",
    "y_pred_svc_dpoty = svc_dpoty.predict(X_test_dpoty)\n",
    "\n",
    "# Evaluate the model\n",
    "accuracy_svc_dpoty = accuracy_score(y_test_dpoty, y_pred_svc_dpoty)\n",
    "conf_matrix_svc_dpoty = confusion_matrix(y_test_dpoty, y_pred_svc_dpoty)\n",
    "logging.info(f'Support Vector DPOY Accuracy: {accuracy_svc_dpoty}')\n",
    "logging.info(f'Support Vector DPOY Confusion Matrix: \\n{conf_matrix_svc_dpoty}')\n",
    "\n",
    "# Save the trained model\n",
    "joblib.dump(svc_dpoty, 'svc_dpoty_model.pkl')\n"
   ]
  },
  {
   "cell_type": "markdown",
   "metadata": {},
   "source": [
    "## Train Points Leader Model\n",
    "\n",
    "We will train a model to predict the points leader using `RandomForestRegressor`.\n"
   ]
  },
  {
   "cell_type": "code",
   "execution_count": null,
   "metadata": {},
   "outputs": [],
   "source": [
    "# Define the target variable for points leader\n",
    "y_points_leader = data['PTS']\n",
    "\n"
   ]
  },
  {
   "cell_type": "markdown",
   "metadata": {},
   "source": [
    "#### Random Forest Regressor\n"
   ]
  },
  {
   "cell_type": "code",
   "execution_count": null,
   "metadata": {},
   "outputs": [],
   "source": [
    "# Train the model\n",
    "rf_points_leader = RandomForestRegressor(n_estimators=100, random_state=42)\n",
    "rf_points_leader.fit(X, y_points_leader)\n",
    "\n",
    "# Make predictions\n",
    "y_pred_rf_points_leader = rf_points_leader.predict(X)\n",
    "\n",
    "# Evaluate the model\n",
    "mse_rf_points_leader = mean_squared_error(y_points_leader, y_pred_rf_points_leader)\n",
    "logging.info(f'Random Forest Points Leader MSE: {mse_rf_points_leader}')\n",
    "\n",
    "# Save the trained model\n",
    "joblib.dump(rf_points_leader, 'rf_points_leader_model.pkl')\n"
   ]
  },
  {
   "cell_type": "markdown",
   "metadata": {},
   "source": [
    "#### Gradient Boosting Regressor\n"
   ]
  },
  {
   "cell_type": "code",
   "execution_count": null,
   "metadata": {},
   "outputs": [],
   "source": [
    "# Train the model\n",
    "gb_points_leader = GradientBoostingRegressor(n_estimators=100, random_state=42)\n",
    "gb_points_leader.fit(X, y_points_leader)\n",
    "\n",
    "# Make predictions\n",
    "y_pred_gb_points_leader = gb_points_leader.predict(X)\n",
    "\n",
    "# Evaluate the model\n",
    "mse_gb_points_leader = mean_squared_error(y_points_leader, y_pred_gb_points_leader)\n",
    "logging.info(f'Gradient Boosting Points Leader MSE: {mse_gb_points_leader}')\n",
    "\n",
    "# Save the trained model\n",
    "joblib.dump(gb_points_leader, 'gb_points_leader_model.pkl')\n"
   ]
  },
  {
   "cell_type": "markdown",
   "metadata": {},
   "source": [
    "#### Support Vector Regressor\n"
   ]
  },
  {
   "cell_type": "code",
   "execution_count": null,
   "metadata": {},
   "outputs": [],
   "source": [
    "# Train the model\n",
    "svr_points_leader = SVR()\n",
    "svr_points_leader.fit(X, y_points_leader)\n",
    "\n",
    "# Make predictions\n",
    "y_pred_svr_points_leader = svr_points_leader.predict(X)\n",
    "\n",
    "# Evaluate the model\n",
    "mse_svr_points_leader = mean_squared_error(y_points_leader, y_pred_svr_points_leader)\n",
    "logging.info(f'Support Vector Points Leader MSE: {mse_svr_points_leader}')\n",
    "\n",
    "# Save the trained model\n",
    "joblib.dump(svr_points_leader, 'svr_points_leader_model.pkl')\n"
   ]
  },
  {
   "cell_type": "markdown",
   "metadata": {},
   "source": [
    "## Train Assists Leader Model\n",
    "\n",
    "We will train a model to predict the assists leader using `RandomForestRegressor`.\n"
   ]
  },
  {
   "cell_type": "code",
   "execution_count": null,
   "metadata": {},
   "outputs": [],
   "source": [
    "# Define the target variable for assists leader\n",
    "y_assists_leader = data['AST']\n"
   ]
  },
  {
   "cell_type": "markdown",
   "metadata": {},
   "source": [
    "#### Random Forest Regressor\n"
   ]
  },
  {
   "cell_type": "code",
   "execution_count": null,
   "metadata": {},
   "outputs": [],
   "source": [
    "# Train the model\n",
    "rf_assists_leader = RandomForestRegressor(n_estimators=100, random_state=42)\n",
    "rf_assists_leader.fit(X, y_assists_leader)\n",
    "\n",
    "# Make predictions\n",
    "y_pred_rf_assists_leader = rf_assists_leader.predict(X)\n",
    "\n",
    "# Evaluate the model\n",
    "mse_rf_assists_leader = mean_squared_error(y_assists_leader, y_pred_rf_assists_leader)\n",
    "logging.info(f'Random Forest Assists Leader MSE: {mse_rf_assists_leader}')\n",
    "\n",
    "# Save the trained model\n",
    "joblib.dump(rf_assists_leader, 'rf_assists_leader_model.pkl')\n"
   ]
  },
  {
   "cell_type": "markdown",
   "metadata": {},
   "source": [
    "#### Gradient Boosting Regressor\n"
   ]
  },
  {
   "cell_type": "code",
   "execution_count": null,
   "metadata": {},
   "outputs": [],
   "source": [
    "# Train the model\n",
    "gb_assists_leader = GradientBoostingRegressor(n_estimators=100, random_state=42)\n",
    "gb_assists_leader.fit(X, y_assists_leader)\n",
    "\n",
    "# Make predictions\n",
    "y_pred_gb_assists_leader = gb_assists_leader.predict(X)\n",
    "\n",
    "# Evaluate the model\n",
    "mse_gb_assists_leader = mean_squared_error(y_assists_leader, y_pred_gb_assists_leader)\n",
    "logging.info(f'Gradient Boosting Assists Leader MSE: {mse_gb_assists_leader}')\n",
    "\n",
    "# Save the trained model\n",
    "joblib.dump(gb_assists_leader, 'gb_assists_leader_model.pkl')\n"
   ]
  },
  {
   "cell_type": "markdown",
   "metadata": {},
   "source": [
    "#### Support Vector Regressor\n"
   ]
  },
  {
   "cell_type": "code",
   "execution_count": null,
   "metadata": {},
   "outputs": [],
   "source": [
    "# Train the model\n",
    "svr_assists_leader = SVR()\n",
    "svr_assists_leader.fit(X, y_assists_leader)\n",
    "\n",
    "# Make predictions\n",
    "y_pred_svr_assists_leader = svr_assists_leader.predict(X)\n",
    "\n",
    "# Evaluate the model\n",
    "mse_svr_assists_leader = mean_squared_error(y_assists_leader, y_pred_svr_assists_leader)\n",
    "logging.info(f'Support Vector Assists Leader MSE: {mse_svr_assists_leader}')\n",
    "\n",
    "# Save the trained model\n",
    "joblib.dump(svr_assists_leader, 'svr_assists_leader_model.pkl')\n"
   ]
  },
  {
   "cell_type": "markdown",
   "metadata": {},
   "source": [
    "## Train Rebounds Leader Model\n",
    "\n",
    "We will train a model to predict the rebounds leader using `RandomForestRegressor`.\n"
   ]
  },
  {
   "cell_type": "code",
   "execution_count": null,
   "metadata": {},
   "outputs": [],
   "source": [
    "# Define the target variable for rebounds leader\n",
    "y_rebounds_leader = data['REB']\n"
   ]
  },
  {
   "cell_type": "markdown",
   "metadata": {},
   "source": [
    "#### Random Forest Regressor\n"
   ]
  },
  {
   "cell_type": "code",
   "execution_count": null,
   "metadata": {},
   "outputs": [],
   "source": [
    "# Train the model\n",
    "rf_rebounds_leader = RandomForestRegressor(n_estimators=100, random_state=42)\n",
    "rf_rebounds_leader.fit(X, y_rebounds_leader)\n",
    "\n",
    "# Make predictions\n",
    "y_pred_rf_rebounds_leader = rf_rebounds_leader.predict(X)\n",
    "\n",
    "# Evaluate the model\n",
    "mse_rf_rebounds_leader = mean_squared_error(y_rebounds_leader, y_pred_rf_rebounds_leader)\n",
    "logging.info(f'Random Forest Rebounds Leader MSE: {mse_rf_rebounds_leader}')\n",
    "\n",
    "# Save the trained model\n",
    "joblib.dump(rf_rebounds_leader, 'rf_rebounds_leader_model.pkl')\n"
   ]
  },
  {
   "cell_type": "markdown",
   "metadata": {},
   "source": [
    "#### Gradient Boosting Regressor\n"
   ]
  },
  {
   "cell_type": "code",
   "execution_count": null,
   "metadata": {},
   "outputs": [],
   "source": [
    "# Train the model\n",
    "gb_rebounds_leader = GradientBoostingRegressor(n_estimators=100, random_state=42)\n",
    "gb_rebounds_leader.fit(X, y_rebounds_leader)\n",
    "\n",
    "# Make predictions\n",
    "y_pred_gb_rebounds_leader = gb_rebounds_leader.predict(X)\n",
    "\n",
    "# Evaluate the model\n",
    "mse_gb_rebounds_leader = mean_squared_error(y_rebounds_leader, y_pred_gb_rebounds_leader)\n",
    "logging.info(f'Gradient Boosting Rebounds Leader MSE: {mse_gb_rebounds_leader}')\n",
    "\n",
    "# Save the trained model\n",
    "joblib.dump(gb_rebounds_leader, 'gb_rebounds_leader_model.pkl')\n"
   ]
  },
  {
   "cell_type": "markdown",
   "metadata": {},
   "source": [
    "#### Support Vector Regressor\n"
   ]
  },
  {
   "cell_type": "code",
   "execution_count": null,
   "metadata": {},
   "outputs": [],
   "source": [
    "# Train the model\n",
    "svr_rebounds_leader = SVR()\n",
    "svr_rebounds_leader.fit(X, y_rebounds_leader)\n",
    "\n",
    "# Make predictions\n",
    "y_pred_svr_rebounds_leader = svr_rebounds_leader.predict(X)\n",
    "\n",
    "# Evaluate the model\n",
    "mse_svr_rebounds_leader = mean_squared_error(y_rebounds_leader, y_pred_svr_rebounds_leader)\n",
    "logging.info(f'Support Vector Rebounds Leader MSE: {mse_svr_rebounds_leader}')\n",
    "\n",
    "# Save the trained model\n",
    "joblib.dump(svr_rebounds_leader, 'svr_rebounds_leader_model.pkl')\n"
   ]
  }
 ],
 "metadata": {
  "language_info": {
   "name": "python"
  }
 },
 "nbformat": 4,
 "nbformat_minor": 2
}
